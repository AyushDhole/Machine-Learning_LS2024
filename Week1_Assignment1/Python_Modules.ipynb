{
 "cells": [
  {
   "cell_type": "markdown",
   "id": "f6ade26f-d7f2-40f0-8f07-33e32d361211",
   "metadata": {},
   "source": [
    "### **Numpy Implementation**"
   ]
  },
  {
   "cell_type": "code",
   "execution_count": 20,
   "id": "7398c619-c3dc-46b6-834d-f92ff9ef168e",
   "metadata": {},
   "outputs": [],
   "source": [
    "import numpy as np"
   ]
  },
  {
   "cell_type": "code",
   "execution_count": 28,
   "id": "610f1615-9139-4d11-9234-376ef86dbaf5",
   "metadata": {},
   "outputs": [],
   "source": [
    "# Create a 2D Numpy array of size 1x3 with elements of your choice\n",
    "arr1 = np.array([[1, 5, 6]])\n",
    "\n",
    "# Create a Numpy array of length 50 with zeroes as its elements\n",
    "arr2 = np.zeros(shape=(1,50))\n",
    "\n",
    "#Create a Numpy array of length 3x2 with elements of your choice\n",
    "arr3 = np.array([[8, 5], [6, 7], [1,4]])\n",
    "\n",
    "#Multiply arr1 and arr3 using Numpy functions\n",
    "arr4 = np.dot(arr1, arr3)\n",
    "\n",
    "#Change 5th element of arr2 to a different number\n",
    "arr2[0,4] = 5 "
   ]
  },
  {
   "cell_type": "code",
   "execution_count": 44,
   "id": "c66f3cd1-db11-44bd-bcb5-e7b17b6b7e85",
   "metadata": {},
   "outputs": [
    {
     "name": "stdout",
     "output_type": "stream",
     "text": [
      "[[1 5 6]] \n",
      ", [[0. 0. 0. 0. 5. 0. 0. 0. 0. 0. 0. 0. 0. 0. 0. 0. 0. 0. 0. 0. 0. 0. 0. 0.\n",
      "  0. 0. 0. 0. 0. 0. 0. 0. 0. 0. 0. 0. 0. 0. 0. 0. 0. 0. 0. 0. 0. 0. 0. 0.\n",
      "  0. 0.]] \n",
      ", [[8 5]\n",
      " [6 7]\n",
      " [1 4]] \n",
      ", [[44 64]]\n"
     ]
    }
   ],
   "source": [
    "print(f\"{arr1} \\n, {arr2} \\n, {arr3} \\n, {arr4}\")"
   ]
  },
  {
   "cell_type": "code",
   "execution_count": 57,
   "id": "1e83c333-48f7-4a7e-bc5e-07b0d49b1e78",
   "metadata": {},
   "outputs": [
    {
     "name": "stdout",
     "output_type": "stream",
     "text": [
      "[[1. 0. 0.]\n",
      " [0. 1. 0.]\n",
      " [0. 0. 1.]]\n",
      "[[10.  1.  1.]\n",
      " [ 1. 10.  1.]\n",
      " [ 1.  1. 10.]]\n",
      "[[10.  1.  1.]\n",
      " [ 1. 10.  1.]\n",
      " [ 1.  1. 10.]]\n"
     ]
    }
   ],
   "source": [
    "import numpy as np\n",
    "#Task: Perform the dot product of I and 9I+1 using numpy, here I is referred to as an 3x3 Identity matrix.\n",
    "\n",
    "M1 = np.identity(3)\n",
    "M2 = (M1*9) + 1\n",
    "\n",
    "M1xM2 = np.dot(M1,M2)\n",
    "\n",
    "print(M1)\n",
    "print(M2)\n",
    "print(M1xM2)"
   ]
  },
  {
   "cell_type": "code",
   "execution_count": null,
   "id": "475be4bf-bc38-4504-9c27-d9929f9598a8",
   "metadata": {},
   "outputs": [],
   "source": []
  },
  {
   "cell_type": "markdown",
   "id": "2339870e-f331-4ff2-a78a-e6fa9f3b070e",
   "metadata": {},
   "source": [
    "### **Pandas Implementation**"
   ]
  },
  {
   "cell_type": "code",
   "execution_count": 59,
   "id": "fcac91f1-35ca-4ff5-a73c-b1867e17d6a3",
   "metadata": {},
   "outputs": [],
   "source": [
    "import pandas as pd"
   ]
  },
  {
   "cell_type": "code",
   "execution_count": 69,
   "id": "bc9bb87f-bec1-4781-a064-247c0a211bf1",
   "metadata": {},
   "outputs": [
    {
     "name": "stdout",
     "output_type": "stream",
     "text": [
      "     Name  Age       City\n",
      "0  Ramesh   25  Bangalore\n",
      "1  Mahesh   30     Mumbai\n",
      "2  Suresh   35      Delhi\n"
     ]
    }
   ],
   "source": [
    "## Create a DataFrame from a dictionary\n",
    "data = {\n",
    "    'Name': ['Ramesh', 'Mahesh', 'Suresh'],\n",
    "    'Age': [25, 30, 35],\n",
    "    'City': ['Bangalore', 'Mumbai', 'Delhi']\n",
    "}\n",
    "\n",
    "DF1 = pd.DataFrame(data)\n",
    "print(DF1)"
   ]
  },
  {
   "cell_type": "code",
   "execution_count": 73,
   "id": "e2d1919c-e14c-4ecd-8d7a-d0afd4c2036c",
   "metadata": {},
   "outputs": [
    {
     "data": {
      "text/html": [
       "<div>\n",
       "<style scoped>\n",
       "    .dataframe tbody tr th:only-of-type {\n",
       "        vertical-align: middle;\n",
       "    }\n",
       "\n",
       "    .dataframe tbody tr th {\n",
       "        vertical-align: top;\n",
       "    }\n",
       "\n",
       "    .dataframe thead th {\n",
       "        text-align: right;\n",
       "    }\n",
       "</style>\n",
       "<table border=\"1\" class=\"dataframe\">\n",
       "  <thead>\n",
       "    <tr style=\"text-align: right;\">\n",
       "      <th></th>\n",
       "      <th>Name</th>\n",
       "      <th>Age</th>\n",
       "      <th>City</th>\n",
       "    </tr>\n",
       "  </thead>\n",
       "  <tbody>\n",
       "    <tr>\n",
       "      <th>0</th>\n",
       "      <td>Ramesh</td>\n",
       "      <td>25</td>\n",
       "      <td>Bangalore</td>\n",
       "    </tr>\n",
       "    <tr>\n",
       "      <th>1</th>\n",
       "      <td>Mahesh</td>\n",
       "      <td>30</td>\n",
       "      <td>Mumbai</td>\n",
       "    </tr>\n",
       "  </tbody>\n",
       "</table>\n",
       "</div>"
      ],
      "text/plain": [
       "     Name  Age       City\n",
       "0  Ramesh   25  Bangalore\n",
       "1  Mahesh   30     Mumbai"
      ]
     },
     "execution_count": 73,
     "metadata": {},
     "output_type": "execute_result"
    }
   ],
   "source": [
    "#Display the first 2 rows of the data frame\n",
    "DF1.iloc[0:2, :]"
   ]
  },
  {
   "cell_type": "code",
   "execution_count": 85,
   "id": "9adc5832-2829-42a2-a565-4737cc527eb5",
   "metadata": {},
   "outputs": [
    {
     "data": {
      "text/plain": [
       "0    25\n",
       "1    30\n",
       "2    35\n",
       "Name: Age, dtype: int64"
      ]
     },
     "execution_count": 85,
     "metadata": {},
     "output_type": "execute_result"
    }
   ],
   "source": [
    "#Print the age column\n",
    "DF1['Age']"
   ]
  },
  {
   "cell_type": "code",
   "execution_count": 95,
   "id": "4f9d1b24-ef65-473b-8eeb-f30126534a6d",
   "metadata": {},
   "outputs": [
    {
     "name": "stdout",
     "output_type": "stream",
     "text": [
      "     Name  Age    City\n",
      "1  Mahesh   30  Mumbai\n",
      "2  Suresh   35   Delhi\n"
     ]
    }
   ],
   "source": [
    "#Filter rows where age is greater than 26\n",
    "fil_DF1 = DF1[DF1.Age > 26]\n",
    "print(fil_DF1)"
   ]
  },
  {
   "cell_type": "code",
   "execution_count": 105,
   "id": "f49b9a58-5d8a-4a22-92a0-b4140ef10dc2",
   "metadata": {},
   "outputs": [
    {
     "data": {
      "text/html": [
       "<div>\n",
       "<style scoped>\n",
       "    .dataframe tbody tr th:only-of-type {\n",
       "        vertical-align: middle;\n",
       "    }\n",
       "\n",
       "    .dataframe tbody tr th {\n",
       "        vertical-align: top;\n",
       "    }\n",
       "\n",
       "    .dataframe thead th {\n",
       "        text-align: right;\n",
       "    }\n",
       "</style>\n",
       "<table border=\"1\" class=\"dataframe\">\n",
       "  <thead>\n",
       "    <tr style=\"text-align: right;\">\n",
       "      <th></th>\n",
       "      <th>Name</th>\n",
       "      <th>Age</th>\n",
       "      <th>City</th>\n",
       "      <th>Country</th>\n",
       "    </tr>\n",
       "  </thead>\n",
       "  <tbody>\n",
       "    <tr>\n",
       "      <th>0</th>\n",
       "      <td>Ramesh</td>\n",
       "      <td>25</td>\n",
       "      <td>Bangalore</td>\n",
       "      <td>India</td>\n",
       "    </tr>\n",
       "    <tr>\n",
       "      <th>1</th>\n",
       "      <td>Mahesh</td>\n",
       "      <td>30</td>\n",
       "      <td>Mumbai</td>\n",
       "      <td>India</td>\n",
       "    </tr>\n",
       "    <tr>\n",
       "      <th>2</th>\n",
       "      <td>Suresh</td>\n",
       "      <td>35</td>\n",
       "      <td>Delhi</td>\n",
       "      <td>India</td>\n",
       "    </tr>\n",
       "  </tbody>\n",
       "</table>\n",
       "</div>"
      ],
      "text/plain": [
       "     Name  Age       City Country\n",
       "0  Ramesh   25  Bangalore   India\n",
       "1  Mahesh   30     Mumbai   India\n",
       "2  Suresh   35      Delhi   India"
      ]
     },
     "execution_count": 105,
     "metadata": {},
     "output_type": "execute_result"
    }
   ],
   "source": [
    "# Add a new column 'Country' with the value 'India' for all rows\n",
    "DF1['Country'] = 'India'\n",
    "DF1"
   ]
  },
  {
   "cell_type": "code",
   "execution_count": 119,
   "id": "31eeaa89-919c-467c-aa24-25eb485d8628",
   "metadata": {},
   "outputs": [
    {
     "data": {
      "text/html": [
       "<div>\n",
       "<style scoped>\n",
       "    .dataframe tbody tr th:only-of-type {\n",
       "        vertical-align: middle;\n",
       "    }\n",
       "\n",
       "    .dataframe tbody tr th {\n",
       "        vertical-align: top;\n",
       "    }\n",
       "\n",
       "    .dataframe thead th {\n",
       "        text-align: right;\n",
       "    }\n",
       "</style>\n",
       "<table border=\"1\" class=\"dataframe\">\n",
       "  <thead>\n",
       "    <tr style=\"text-align: right;\">\n",
       "      <th></th>\n",
       "      <th>Name</th>\n",
       "      <th>Age</th>\n",
       "      <th>City</th>\n",
       "    </tr>\n",
       "  </thead>\n",
       "  <tbody>\n",
       "    <tr>\n",
       "      <th>0</th>\n",
       "      <td>Ramesh</td>\n",
       "      <td>25.0</td>\n",
       "      <td>Bangalore</td>\n",
       "    </tr>\n",
       "    <tr>\n",
       "      <th>1</th>\n",
       "      <td>Mahesh</td>\n",
       "      <td>30.0</td>\n",
       "      <td>Mumbai</td>\n",
       "    </tr>\n",
       "    <tr>\n",
       "      <th>2</th>\n",
       "      <td>Suresh</td>\n",
       "      <td>35.0</td>\n",
       "      <td>Delhi</td>\n",
       "    </tr>\n",
       "  </tbody>\n",
       "</table>\n",
       "</div>"
      ],
      "text/plain": [
       "     Name   Age       City\n",
       "0  Ramesh  25.0  Bangalore\n",
       "1  Mahesh  30.0     Mumbai\n",
       "2  Suresh  35.0      Delhi"
      ]
     },
     "execution_count": 119,
     "metadata": {},
     "output_type": "execute_result"
    }
   ],
   "source": [
    "# Fill missing values in the 'Age' column with the mean age\n",
    "data1 = {\n",
    "    'Name': ['Ramesh', 'Mahesh', 'Suresh'],\n",
    "    'Age': [25, None, 35],\n",
    "    'City': ['Bangalore', 'Mumbai', 'Delhi']\n",
    "}\n",
    "\n",
    "df2= pd.DataFrame(data1)\n",
    "\n",
    "df2 = df2.fillna(np.mean(df2.Age))\n",
    "df2\n"
   ]
  },
  {
   "cell_type": "code",
   "execution_count": null,
   "id": "a335da8a-dfcb-46ab-aa8e-e4f5678c3131",
   "metadata": {},
   "outputs": [],
   "source": []
  },
  {
   "cell_type": "markdown",
   "id": "e4d1f1f8-00de-474b-81f6-2873a2707ad4",
   "metadata": {},
   "source": [
    "### **Matploblib Implementation**"
   ]
  },
  {
   "cell_type": "code",
   "execution_count": 134,
   "id": "faaff0fc-9127-45ec-9f7b-84eee229be8e",
   "metadata": {},
   "outputs": [],
   "source": [
    "import matplotlib.pyplot as plt\n",
    "import numpy as np\n",
    "%matplotlib inline"
   ]
  },
  {
   "cell_type": "code",
   "execution_count": 158,
   "id": "7903d01b-8c0a-488e-a75d-d6b4d12880c4",
   "metadata": {},
   "outputs": [
    {
     "data": {
      "text/plain": [
       "[<matplotlib.lines.Line2D at 0x1e6430b56d0>]"
      ]
     },
     "execution_count": 158,
     "metadata": {},
     "output_type": "execute_result"
    },
    {
     "data": {
      "image/png": "[encoded data removed]",
      "text/plain": [
       "<Figure size 640x480 with 1 Axes>"
      ]
     },
     "metadata": {},
     "output_type": "display_data"
    }
   ],
   "source": [
    "#Plot these points without drawing a line\n",
    "xpoints=np.array([1,2,3,4])\n",
    "ypoints=np.array([2,4,6,8])\n",
    "\n",
    "plt.plot(xpoints,ypoints, 'ko')"
   ]
  },
  {
   "cell_type": "code",
   "execution_count": 154,
   "id": "b6b90fb1-fcda-413e-bc3a-30fa9884a0a1",
   "metadata": {},
   "outputs": [
    {
     "data": {
      "text/plain": [
       "[<matplotlib.lines.Line2D at 0x1e6432edf90>]"
      ]
     },
     "execution_count": 154,
     "metadata": {},
     "output_type": "execute_result"
    },
    {
     "data": {
      "image/png": "[encoded data removed]",
      "text/plain": [
       "<Figure size 640x480 with 1 Axes>"
      ]
     },
     "metadata": {},
     "output_type": "display_data"
    }
   ],
   "source": [
    "#Plotting with marker: Plot these points with a marker(Star marker)\n",
    "xpoints=np.array([1,2,3,4])\n",
    "ypoints=np.array([2,4,6,8])\n",
    "\n",
    "plt.plot(xpoints,ypoints,'k*')"
   ]
  },
  {
   "cell_type": "code",
   "execution_count": 146,
   "id": "cf706d69-f959-4631-8fba-dc4e4e8640ca",
   "metadata": {},
   "outputs": [
    {
     "data": {
      "image/png": "[encoded data removed]",
      "text/plain": [
       "<Figure size 640x480 with 1 Axes>"
      ]
     },
     "metadata": {},
     "output_type": "display_data"
    }
   ],
   "source": [
    "#Using fmt format, add circular marker,red color and Dashed line\n",
    "plt.plot(xpoints, ypoints, 'ro--') \n",
    "plt.show()"
   ]
  },
  {
   "cell_type": "code",
   "execution_count": 150,
   "id": "4ea61dc7-4c9b-4016-abf1-73f38b7824ae",
   "metadata": {},
   "outputs": [
    {
     "data": {
      "text/plain": [
       "Text(0.5, 1.0, 'Dashed Plot')"
      ]
     },
     "execution_count": 150,
     "metadata": {},
     "output_type": "execute_result"
    },
    {
     "data": {
      "image/png": "[encoded data removed]",
      "text/plain": [
       "<Figure size 640x480 with 1 Axes>"
      ]
     },
     "metadata": {},
     "output_type": "display_data"
    }
   ],
   "source": [
    "#Add xlabel,ylabel and title for the plot.\n",
    "\n",
    "plt.plot(xpoints, ypoints, 'go--') \n",
    "\n",
    "plt.xlabel('X-Axis')\n",
    "plt.ylabel('Y-Axis')\n",
    "plt.title('Dashed Plot')"
   ]
  },
  {
   "cell_type": "code",
   "execution_count": 162,
   "id": "8187d938-909e-407f-bea9-5197c4797107",
   "metadata": {},
   "outputs": [
    {
     "data": {
      "text/plain": [
       "<matplotlib.collections.PathCollection at 0x1e6443d0350>"
      ]
     },
     "execution_count": 162,
     "metadata": {},
     "output_type": "execute_result"
    },
    {
     "data": {
      "image/png": "[encoded data removed]",
      "text/plain": [
       "<Figure size 640x480 with 1 Axes>"
      ]
     },
     "metadata": {},
     "output_type": "display_data"
    }
   ],
   "source": [
    "#Create a scatter plot for xpoints and ypoints\n",
    "plt.scatter(xpoints,ypoints)"
   ]
  },
  {
   "cell_type": "code",
   "execution_count": 168,
   "id": "ac723f1b-b0d2-4395-a563-0f1c4864108c",
   "metadata": {},
   "outputs": [
    {
     "data": {
      "text/plain": [
       "<matplotlib.collections.PathCollection at 0x1e64333e7d0>"
      ]
     },
     "execution_count": 168,
     "metadata": {},
     "output_type": "execute_result"
    },
    {
     "data": {
      "image/png": "[encoded data removed]",
      "text/plain": [
       "<Figure size 640x480 with 1 Axes>"
      ]
     },
     "metadata": {},
     "output_type": "display_data"
    }
   ],
   "source": [
    "# Set color to the scatter plot. Blue,Green,Red and yellow color for each point respectively\n",
    "\n",
    "colors = ['blue', 'green', 'red', 'yellow']\n",
    "plt.scatter(xpoints, ypoints, c=colors)"
   ]
  },
  {
   "cell_type": "code",
   "execution_count": 184,
   "id": "db8252e2-f39d-4204-8e95-b23275972cad",
   "metadata": {},
   "outputs": [],
   "source": [
    "#Set the seed of random to 20\n",
    "import random\n",
    "import numpy as np\n",
    "\n",
    "l=random.seed(20)\n",
    "k= np.random.seed(20)"
   ]
  },
  {
   "cell_type": "code",
   "execution_count": 202,
   "id": "19edd2c4-ef65-4ec4-93de-7685413fbf95",
   "metadata": {},
   "outputs": [
    {
     "ename": "NameError",
     "evalue": "name 'random_numbers' is not defined",
     "output_type": "error",
     "traceback": [
      "\u001b[1;31m---------------------------------------------------------------------------\u001b[0m",
      "\u001b[1;31mNameError\u001b[0m                                 Traceback (most recent call last)",
      "Cell \u001b[1;32mIn[202], line 5\u001b[0m\n\u001b[0;32m      2\u001b[0m arr1 \u001b[38;5;241m=\u001b[39m np\u001b[38;5;241m.\u001b[39marray([\u001b[38;5;241m1\u001b[39m,\u001b[38;5;241m24\u001b[39m,\u001b[38;5;241m31\u001b[39m,\u001b[38;5;241m45\u001b[39m,\u001b[38;5;241m73\u001b[39m,\u001b[38;5;241m81\u001b[39m,\u001b[38;5;241m94\u001b[39m,\u001b[38;5;241m25\u001b[39m])\n\u001b[0;32m      4\u001b[0m rand_num \u001b[38;5;241m=\u001b[39m random\u001b[38;5;241m.\u001b[39msample(\u001b[38;5;28mlist\u001b[39m(arr1), \u001b[38;5;241m4\u001b[39m)\n\u001b[1;32m----> 5\u001b[0m sum_random_numbers \u001b[38;5;241m=\u001b[39m \u001b[38;5;28msum\u001b[39m(random_numbers)\n",
      "\u001b[1;31mNameError\u001b[0m: name 'random_numbers' is not defined"
     ]
    }
   ],
   "source": [
    "#Using the random module pick 4 different random numbers from arr1 and return their sum.\n",
    "arr1 = np.array([1,24,31,45,73,81,94,25])\n",
    "\n",
    "rand_num = random.sample(list(arr1), 4)\n",
    "sum_rand_nu = sum(random_numbers)"
   ]
  },
  {
   "cell_type": "code",
   "execution_count": null,
   "id": "f11abc3d-db55-48db-b209-f3af82e93742",
   "metadata": {},
   "outputs": [],
   "source": []
  },
  {
   "cell_type": "code",
   "execution_count": null,
   "id": "70a64067-ce01-4567-bd5f-42d3e9e4341a",
   "metadata": {},
   "outputs": [],
   "source": []
  },
  {
   "cell_type": "code",
   "execution_count": null,
   "id": "a94e5ff8-b190-47f8-ae8d-61eb8c29d97d",
   "metadata": {},
   "outputs": [],
   "source": []
  }
 ],
 "metadata": {
  "kernelspec": {
   "display_name": "Python 3 (ipykernel)",
   "language": "python",
   "name": "python3"
  },
  "language_info": {
   "codemirror_mode": {
    "name": "ipython",
    "version": 3
   },
   "file_extension": ".py",
   "mimetype": "text/x-python",
   "name": "python",
   "nbconvert_exporter": "python",
   "pygments_lexer": "ipython3",
   "version": "3.11.7"
  }
 },
 "nbformat": 4,
 "nbformat_minor": 5
}
